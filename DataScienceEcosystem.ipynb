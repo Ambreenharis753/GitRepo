{
 "cells": [
  {
   "cell_type": "markdown",
   "id": "829261a6-6139-488e-921f-c53749cdc878",
   "metadata": {},
   "source": [
    "# Data Science Tools and Ecosystem"
   ]
  },
  {
   "cell_type": "markdown",
   "id": "7f0d1f44-a95e-4a8f-bb39-fa784d8cdd76",
   "metadata": {},
   "source": [
    "In this notebook, Data Science Tools and Ecosystem are summarized."
   ]
  },
  {
   "cell_type": "markdown",
   "id": "82173349-a503-44ca-bb05-701564922497",
   "metadata": {},
   "source": [
    "**Objectives:**\n",
    "- List popular languages for Data Science\n",
    "- List commonly used libraries for data science\n",
    "- list common IDEs used for data science"
   ]
  },
  {
   "cell_type": "markdown",
   "id": "c4f63ddf-a0aa-440f-89ff-db0eeeaffc29",
   "metadata": {},
   "source": [
    "Some of the popular languages that Data Scientists use are:\n",
    "1. R\n",
    "2. Python\n",
    "3. Julia"
   ]
  },
  {
   "cell_type": "markdown",
   "id": "b4052f03-c493-4c2a-8f54-7c7a40dc7135",
   "metadata": {},
   "source": [
    "Some of the commonly used libraries used by Data Scientists include:\n",
    "1. Pandas\n",
    "2. Numpy\n",
    "3. Scikit"
   ]
  },
  {
   "cell_type": "markdown",
   "id": "4456838d-e04b-42e8-8832-00b1e4d713ef",
   "metadata": {},
   "source": [
    "| Data Science Tools |\n",
    "| ------------------ |\n",
    "| Jupyter Notebook |\n",
    "| Anaconda |\n",
    "| Github |"
   ]
  },
  {
   "cell_type": "markdown",
   "id": "d22f41f7-570b-4fc4-a21e-d1387a75e8a3",
   "metadata": {},
   "source": [
    "### Below are a few examples of evaluating arithmetic expressions in Python"
   ]
  },
  {
   "cell_type": "code",
   "execution_count": 1,
   "id": "2aac58b6-de34-486f-8941-4fc71832fce8",
   "metadata": {},
   "outputs": [
    {
     "data": {
      "text/plain": [
       "17"
      ]
     },
     "execution_count": 1,
     "metadata": {},
     "output_type": "execute_result"
    }
   ],
   "source": [
    "# This a simple arithmetic expression to mutiply then add integers\n",
    "\n",
    "(3*4)+5"
   ]
  },
  {
   "cell_type": "code",
   "execution_count": 2,
   "id": "b9a9f39c-987e-45d9-857e-53c7119a12b8",
   "metadata": {},
   "outputs": [
    {
     "data": {
      "text/plain": [
       "3.3333333333333335"
      ]
     },
     "execution_count": 2,
     "metadata": {},
     "output_type": "execute_result"
    }
   ],
   "source": [
    "# This will convert 200 minutes to hours by diving by 60\n",
    "200 / 60"
   ]
  },
  {
   "cell_type": "markdown",
   "id": "ca0d83e4-912b-4f6a-ac5d-78cef5e76339",
   "metadata": {},
   "source": [
    "## Author \n",
    "Ambreen Haris"
   ]
  },
  {
   "cell_type": "code",
   "execution_count": null,
   "id": "0acb40f5-72c5-4bf1-ad20-b10bf923840f",
   "metadata": {},
   "outputs": [],
   "source": []
  }
 ],
 "metadata": {
  "kernelspec": {
   "display_name": "Python [conda env:base] *",
   "language": "python",
   "name": "conda-base-py"
  },
  "language_info": {
   "codemirror_mode": {
    "name": "ipython",
    "version": 3
   },
   "file_extension": ".py",
   "mimetype": "text/x-python",
   "name": "python",
   "nbconvert_exporter": "python",
   "pygments_lexer": "ipython3",
   "version": "3.12.7"
  }
 },
 "nbformat": 4,
 "nbformat_minor": 5
}
